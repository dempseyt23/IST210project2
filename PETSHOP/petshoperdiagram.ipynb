{
 "cells": [
  {
   "cell_type": "markdown",
   "metadata": {},
   "source": [
    " In our ER diagram for a pet store we started off with six entities which are Animal, Enclosure, Food, Food Purchases, Loyalty Program, and Animal Purchases.  Our first diagram is Enclosure with the primary key being EnclosureID.  We have two types of enclosures which are attributes for our Enclosure diagram which are Cages and Aquariums.  \n",
    "         \n",
    "The second diagram is Animal with the primary key being AnimalID.  We have two attributes which are Fish and Pets.  The Enclosure diagram and Animal diagram are related because an enclosure contains an animal, and one closure can contain multiple animals.  \n",
    "        \n",
    "The third diagram is Food with a primary key called FoodID.  The attributes of this diagram are Fish_Food and Pet_Food because there are two types of food for the animals.  This is related to the Animal diagram because the food is consumed by the animals and many animals can consume food.  \n",
    "         \n",
    "The fourth diagram is Food Purchases with a primary key called Food_PurchasesID. This diagram has three attributes called Type, Price, and Quantity.  This diagram relates to the Food diagram because the food must be bought in order to obtain it, and multiple purchases can be made to obtain food.\n",
    "         \n",
    "The fifth diagram is Loyalty Program with a primary key called Loyalty_ProgramID.  This diagram has two attributes called Animal_PurchasesID and Food_PurchasesID, both of which are foreign keys.  The Loyalty Program relates to the Food Purchases diagram because the loyalty members must purchase the food which will create a unique Food_PuchasesID and one loyalty member can make multiple purchases.  \n",
    "         \n",
    "The sixth diagram is Animal Purchases with a primary key called Animal_PurchasesID.  This diagram has three attributes called Adopting_a_pet, Buying_a_fish, and Price.  This diagram relates to Loyalty Program because loyalty members purchase an animal which will create a unique Animal_PurchasesID and one loyalty member can make multiple purchases.\n"
   ]
  },
  {
   "cell_type": "markdown",
   "metadata": {},
   "source": [
    "![alt text](https://github.com/dempseyt23/IST210project2/blob/master/PETSHOP/Pet_Store_Lab.jpg?raw=true \"Logo Title Text 1\")"
   ]
  },
  {
   "cell_type": "code",
   "execution_count": null,
   "metadata": {},
   "outputs": [],
   "source": []
  }
 ],
 "metadata": {
  "kernelspec": {
   "display_name": "Python 3",
   "language": "python",
   "name": "python3"
  },
  "language_info": {
   "codemirror_mode": {
    "name": "ipython",
    "version": 3
   },
   "file_extension": ".py",
   "mimetype": "text/x-python",
   "name": "python",
   "nbconvert_exporter": "python",
   "pygments_lexer": "ipython3",
   "version": "3.7.3"
  }
 },
 "nbformat": 4,
 "nbformat_minor": 2
}
